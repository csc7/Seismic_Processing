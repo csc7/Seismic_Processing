{
 "cells": [
  {
   "cell_type": "code",
   "execution_count": 1,
   "metadata": {},
   "outputs": [],
   "source": [
    "# External dependencies\n",
    "import segyio"
   ]
  },
  {
   "cell_type": "code",
   "execution_count": null,
   "metadata": {},
   "outputs": [],
   "source": [
    "# Import SEG-Y File\n",
    "segy_file_path = 'file_path/file_name'\n",
    "\n",
    "# Opent SEG-Y File\n",
    "segy_file = segyio.open(segy_file_path, ignore_geometry=True)\n",
    "\n",
    "# EBCDIC Header\n",
    "# (byte format, 3200 bytes = 80 bytes x 40 bytes)\n",
    "ebcdic_header = segy_file.text\n",
    "for i in range(0, 3200, 80):\n",
    "    print(ebcdic_header[0].decode(encoding='UTF-8',errors='ignore')[i:i+79])\n",
    "\n",
    "# Binary Header\n",
    "binary_header = segy_file.bin\n",
    "print(\"Binary Header:\")\n",
    "for key in binary_header.keys():\n",
    "    print(f\"{key}: {binary_header[key]}\")\n",
    "\n",
    "# Trace Header\n",
    "trace_number = 1 # Select trace header to be visualized\n",
    "trace_header = segy_file.header[trace_number]\n",
    "print(f\"\\nTrace {trace_number + 1} Header:\")\n",
    "for key, value in trace_header.items():\n",
    "    print(f\"{key}: {value}\")\n",
    "\n",
    "# Close SEG-Y File\n",
    "segy_file.close()"
   ]
  }
 ],
 "metadata": {
  "kernelspec": {
   "display_name": "gempy3",
   "language": "python",
   "name": "python3"
  },
  "language_info": {
   "codemirror_mode": {
    "name": "ipython",
    "version": 3
   },
   "file_extension": ".py",
   "mimetype": "text/x-python",
   "name": "python",
   "nbconvert_exporter": "python",
   "pygments_lexer": "ipython3",
   "version": "3.10.13"
  }
 },
 "nbformat": 4,
 "nbformat_minor": 2
}
